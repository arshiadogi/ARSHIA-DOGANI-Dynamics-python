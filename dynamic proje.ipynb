{
 "cells": [
  {
   "cell_type": "markdown",
   "id": "32c2358b",
   "metadata": {},
   "source": [
    "#ARSHIA DOGANI\n",
    "#05200000967\n",
    "import numpy as np\n",
    "import matplotlib.pyplot as plt\n",
    "import math\n",
    "\n",
    "# B'nin konumu y\n",
    "teta = np.arange(0, 2*math.pi, 0.1)\n",
    "\n",
    "y = 67 * np.sin(teta)\n",
    "plt.plot(y, color='red')\n",
    "plt.show()\n",
    "\n",
    "# B'nin konumu x\n",
    "teta = np.arange(0, 2*math.pi, 0.1)\n",
    "\n",
    "y = 67 * np.cos(teta)\n",
    "plt.plot(y, color='blue')\n",
    "plt.show()\n",
    "\n",
    "# c'nin konumu\n",
    "teta = np.arange(0, 2*math.pi, 0.1)\n",
    "alpha = np.arcsin(67/77 * np.sin(teta))\n",
    "\n",
    "y = 144 - (67 * np.cos(teta) + 77 * np.cos(alpha))\n",
    "plt.plot(y, color='green')\n",
    "plt.show()\n",
    "\n",
    "# B'nin hızı x\n",
    "teta = np.arange(0, 2*math.pi, 0.1)\n",
    "\n",
    "y = 64789 * np.sin(teta)\n",
    "plt.plot(y, color='yellow')\n",
    "plt.show()\n",
    "\n",
    "# B'nin hızı y\n",
    "teta = np.arange(0, 2*math.pi, 0.1)\n",
    "\n",
    "y = -64789 * np.cos(teta)\n",
    "plt.plot(y, color='pink')\n",
    "plt.show()\n",
    "\n",
    "# c'nin hızı\n",
    "teta = np.arange(0, 2*math.pi, 0.1)\n",
    "alpha = np.arcsin(67/77 * np.sin(teta))\n",
    "w = (841.41 * np.cos(teta)) / (-np.cos(alpha))\n",
    "\n",
    "y = -6489 * np.sin(teta) - 77 * w * (-np.sin(alpha))\n",
    "plt.plot(y, color='brown')\n",
    "plt.show()"
   ]
  }
 ],
 "metadata": {
  "kernelspec": {
   "display_name": "Python 3 (ipykernel)",
   "language": "python",
   "name": "python3"
  },
  "language_info": {
   "codemirror_mode": {
    "name": "ipython",
    "version": 3
   },
   "file_extension": ".py",
   "mimetype": "text/x-python",
   "name": "python",
   "nbconvert_exporter": "python",
   "pygments_lexer": "ipython3",
   "version": "3.9.13"
  }
 },
 "nbformat": 4,
 "nbformat_minor": 5
}
